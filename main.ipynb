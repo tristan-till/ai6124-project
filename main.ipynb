{
 "cells": [
  {
   "cell_type": "code",
   "execution_count": 1,
   "metadata": {},
   "outputs": [],
   "source": [
    "import torch\n",
    "\n",
    "import ai6124_project.utils.data as data\n",
    "import ai6124_project.utils.evo_data as evo_data\n",
    "import ai6124_project.utils.params as params\n",
    "import ai6124_project.utils.objectives as objectives\n",
    "import ai6124_project.utils.helpers as helpers\n",
    "from ai6124_project.utils.backbone import get_backbone, get_baseline\n",
    "\n",
    "from ai6124_project.shortcuts.train_backbone import train_backbone\n",
    "from ai6124_project.shortcuts.test_backbone import test_backbone\n",
    "from ai6124_project.shortcuts.finetune_backbone import finetune\n",
    "from ai6124_project.shortcuts.train_head import train_head\n",
    "from ai6124_project.shortcuts.test_head import test_head\n",
    "from ai6124_project.shortcuts.test_aggregation import test_aggregation"
   ]
  },
  {
   "cell_type": "code",
   "execution_count": 2,
   "metadata": {},
   "outputs": [],
   "source": [
    "helpers.set_deterministic()"
   ]
  },
  {
   "cell_type": "code",
   "execution_count": 3,
   "metadata": {},
   "outputs": [
    {
     "name": "stdout",
     "output_type": "stream",
     "text": [
      "\n",
      "Using device: cpu\n"
     ]
    }
   ],
   "source": [
    "device = torch.device('cuda' if torch.cuda.is_available() else 'cpu')\n",
    "print(f\"\\nUsing device: {device}\")"
   ]
  },
  {
   "cell_type": "code",
   "execution_count": 4,
   "metadata": {},
   "outputs": [],
   "source": [
    "dataset, num_features = data.prepare_data()\n",
    "train_dataset, val_dataset, test_dataset = data.get_datasets(dataset)\n",
    "train_loader, val_loader, test_loader = data.get_dataloaders(train_dataset, val_dataset, test_dataset)"
   ]
  },
  {
   "cell_type": "code",
   "execution_count": 5,
   "metadata": {},
   "outputs": [],
   "source": [
    "# train_backbone(get_baseline, num_features, train_loader, val_loader, device, params.BL_BEST_MODEL_PATH, params.LAST_MODEL_PATH)"
   ]
  },
  {
   "cell_type": "code",
   "execution_count": 6,
   "metadata": {},
   "outputs": [
    {
     "name": "stdout",
     "output_type": "stream",
     "text": [
      "File downloaded successfully and saved as weights/bl_best.pth.\n"
     ]
    }
   ],
   "source": [
    "baseline_url = \"https://huggingface.co/tristantill/ai6124-lstm-backbone/resolve/main/bl_best.pth\"\n",
    "helpers.load_weights(baseline_url, params.BL_BEST_MODEL_PATH)"
   ]
  },
  {
   "cell_type": "code",
   "execution_count": 7,
   "metadata": {},
   "outputs": [
    {
     "name": "stdout",
     "output_type": "stream",
     "text": [
      "Test Loss: 0.9806\n",
      "----------------------------------------------------------------------------------------------------\n",
      "Current Model:\n",
      " MSE: 0.9804, MAE: 0.7771, MAPE: 101.17%, RMSE: 0.9870, R²: -0.0018, Hit Ratio: 47.74%\n",
      "--------------------------------------------------------------------------------\n",
      "----------------------------------------------------------------------------------------------------\n",
      "Zero-Change:\n",
      " MSE: 0.9798, MAE: 0.7768, MAPE: 100.00%, RMSE: 0.9867, R²: -154.1894, Hit Ratio: 47.74%\n",
      "--------------------------------------------------------------------------------\n",
      "----------------------------------------------------------------------------------------------------\n",
      "Mean-Change:\n",
      " MSE: 0.9787, MAE: 0.7757, MAPE: 103.16%, RMSE: 0.9861, R²: -154.0000, Hit Ratio: 52.26%\n",
      "--------------------------------------------------------------------------------\n",
      "----------------------------------------------------------------------------------------------------\n",
      "Previous-Day-Change:\n",
      " MSE: 1.8351, MAE: 1.0444, MAPE: 405.35%, RMSE: 1.3503, R²: -0.8751, Hit Ratio: 50.97%\n",
      "--------------------------------------------------------------------------------\n"
     ]
    }
   ],
   "source": [
    "test_backbone(num_features, test_loader, device, params.BL_BEST_MODEL_PATH, get_baseline, params.PLOT_BASELINE)"
   ]
  },
  {
   "cell_type": "code",
   "execution_count": 8,
   "metadata": {},
   "outputs": [
    {
     "name": "stdout",
     "output_type": "stream",
     "text": [
      "File downloaded successfully and saved as weights/best_model.pth.\n"
     ]
    }
   ],
   "source": [
    "backbone_url = \"https://huggingface.co/tristantill/ai6124-gru-lstm-attention-backbone/resolve/main/best_model.pth\"\n",
    "helpers.load_weights(backbone_url, params.BEST_MODEL_PATH)"
   ]
  },
  {
   "cell_type": "code",
   "execution_count": 9,
   "metadata": {},
   "outputs": [],
   "source": [
    "# train_backbone(get_backbone, num_features, train_loader, val_loader, device, params.BEST_MODEL_PATH, params.LAST_MODEL_PATH)"
   ]
  },
  {
   "cell_type": "code",
   "execution_count": 10,
   "metadata": {},
   "outputs": [
    {
     "name": "stdout",
     "output_type": "stream",
     "text": [
      "Test Loss: 0.9441\n",
      "----------------------------------------------------------------------------------------------------\n",
      "Current Model:\n",
      " MSE: 0.9441, MAE: 0.7492, MAPE: 124.72%, RMSE: 0.9691, R²: 0.0342, Hit Ratio: 61.29%\n",
      "--------------------------------------------------------------------------------\n",
      "----------------------------------------------------------------------------------------------------\n",
      "Zero-Change:\n",
      " MSE: 0.9798, MAE: 0.7768, MAPE: 100.00%, RMSE: 0.9867, R²: -154.1894, Hit Ratio: 47.74%\n",
      "--------------------------------------------------------------------------------\n",
      "----------------------------------------------------------------------------------------------------\n",
      "Mean-Change:\n",
      " MSE: 0.9787, MAE: 0.7757, MAPE: 103.16%, RMSE: 0.9861, R²: -154.0000, Hit Ratio: 52.26%\n",
      "--------------------------------------------------------------------------------\n",
      "----------------------------------------------------------------------------------------------------\n",
      "Previous-Day-Change:\n",
      " MSE: 1.8351, MAE: 1.0444, MAPE: 405.35%, RMSE: 1.3503, R²: -0.8751, Hit Ratio: 50.97%\n",
      "--------------------------------------------------------------------------------\n"
     ]
    }
   ],
   "source": [
    "test_backbone(num_features, test_loader, device, params.BEST_MODEL_PATH, get_backbone, params.PLOT_BACKBONE)"
   ]
  },
  {
   "cell_type": "code",
   "execution_count": 11,
   "metadata": {},
   "outputs": [],
   "source": [
    "# finetune(device, params.BL_BEST_MODEL_PATH, get_baseline, params.FT_NUM_EPOCHS, params.FT_BL_BEST_MODEL_PATH, params.FT_BL_LAST_MODEL_PATH, params.FT_PLOT_BASELINE)"
   ]
  },
  {
   "cell_type": "code",
   "execution_count": 12,
   "metadata": {},
   "outputs": [],
   "source": [
    "# finetune(device, params.BEST_MODEL_PATH, get_backbone, params.FT_NUM_EPOCHS, params.FT_BEST_MODEL_PATH, params.FT_LAST_MODEL_PATH, params.FT_PLOT_BACKBONE)"
   ]
  },
  {
   "cell_type": "code",
   "execution_count": 13,
   "metadata": {},
   "outputs": [],
   "source": [
    "ft_dataset, num_features = data.prepare_data(params.FT_TARGET, params.FT_SUPP)\n",
    "ft_train_dataset, ft_val_dataset, ft_test_dataset = data.get_datasets(ft_dataset)\n",
    "ft_train_loader, ft_val_loader, ft_test_loader = data.get_dataloaders(ft_train_dataset, ft_val_dataset, ft_test_dataset)"
   ]
  },
  {
   "cell_type": "code",
   "execution_count": 14,
   "metadata": {},
   "outputs": [
    {
     "name": "stdout",
     "output_type": "stream",
     "text": [
      "File downloaded successfully and saved as weights/ft_bl_best.pth.\n"
     ]
    }
   ],
   "source": [
    "backbone_url = 'https://huggingface.co/tristantill/ai6124-lstm-backbone/resolve/main/ft_bl_best.pth'\n",
    "helpers.load_weights(backbone_url, params.FT_BL_BEST_MODEL_PATH)"
   ]
  },
  {
   "cell_type": "code",
   "execution_count": 15,
   "metadata": {},
   "outputs": [
    {
     "name": "stdout",
     "output_type": "stream",
     "text": [
      "Test Loss: 0.6780\n",
      "----------------------------------------------------------------------------------------------------\n",
      "Current Model:\n",
      " MSE: 0.6849, MAE: 0.6148, MAPE: 98.95%, RMSE: 0.8250, R²: -0.0036, Hit Ratio: 56.13%\n",
      "--------------------------------------------------------------------------------\n",
      "----------------------------------------------------------------------------------------------------\n",
      "Zero-Change:\n",
      " MSE: 0.6846, MAE: 0.6153, MAPE: 100.00%, RMSE: 0.8248, R²: -154.4739, Hit Ratio: 56.13%\n",
      "--------------------------------------------------------------------------------\n",
      "----------------------------------------------------------------------------------------------------\n",
      "Mean-Change:\n",
      " MSE: 0.6826, MAE: 0.6217, MAPE: 115.96%, RMSE: 0.8235, R²: -154.0000, Hit Ratio: 43.87%\n",
      "--------------------------------------------------------------------------------\n",
      "----------------------------------------------------------------------------------------------------\n",
      "Previous-Day-Change:\n",
      " MSE: 1.1260, MAE: 0.7927, MAPE: 285.34%, RMSE: 1.0583, R²: -0.6514, Hit Ratio: 60.00%\n",
      "--------------------------------------------------------------------------------\n"
     ]
    }
   ],
   "source": [
    "test_backbone(num_features, ft_test_loader, device, params.FT_BL_BEST_MODEL_PATH, get_baseline, params.FT_PLOT_BASELINE)"
   ]
  },
  {
   "cell_type": "code",
   "execution_count": 14,
   "metadata": {},
   "outputs": [
    {
     "name": "stdout",
     "output_type": "stream",
     "text": [
      "File downloaded successfully and saved as weights/ft_best.pth.\n"
     ]
    }
   ],
   "source": [
    "backbone_url = 'https://huggingface.co/tristantill/ai6124-gru-lstm-attention-backbone/resolve/main/ft_best.pth'\n",
    "helpers.load_weights(backbone_url, params.FT_BEST_MODEL_PATH)"
   ]
  },
  {
   "cell_type": "code",
   "execution_count": 15,
   "metadata": {},
   "outputs": [
    {
     "name": "stdout",
     "output_type": "stream",
     "text": [
      "Test Loss: 0.6640\n",
      "----------------------------------------------------------------------------------------------------\n",
      "Current Model:\n",
      " MSE: 0.6695, MAE: 0.6127, MAPE: 123.30%, RMSE: 0.8166, R²: 0.0167, Hit Ratio: 53.55%\n",
      "--------------------------------------------------------------------------------\n",
      "----------------------------------------------------------------------------------------------------\n",
      "Zero-Change:\n",
      " MSE: 0.6846, MAE: 0.6153, MAPE: 100.00%, RMSE: 0.8248, R²: -154.4739, Hit Ratio: 56.13%\n",
      "--------------------------------------------------------------------------------\n",
      "----------------------------------------------------------------------------------------------------\n",
      "Mean-Change:\n",
      " MSE: 0.6826, MAE: 0.6217, MAPE: 115.96%, RMSE: 0.8235, R²: -154.0000, Hit Ratio: 43.87%\n",
      "--------------------------------------------------------------------------------\n",
      "----------------------------------------------------------------------------------------------------\n",
      "Previous-Day-Change:\n",
      " MSE: nan, MAE: 0.6153, MAPE: 100.00%, RMSE: 0.8248, R²: -0.0031, Hit Ratio: 56.13%\n",
      "--------------------------------------------------------------------------------\n"
     ]
    }
   ],
   "source": [
    "test_backbone(num_features, ft_test_loader, device, params.FT_BEST_MODEL_PATH, get_backbone, params.FT_PLOT_BACKBONE)"
   ]
  },
  {
   "cell_type": "code",
   "execution_count": 18,
   "metadata": {},
   "outputs": [],
   "source": [
    "in_train, p_train = evo_data.get_train_data(device, model=params.BEST_MODEL_PATH, target=params.TARGET)"
   ]
  },
  {
   "cell_type": "code",
   "execution_count": 19,
   "metadata": {},
   "outputs": [],
   "source": [
    "# train_head(in_train, p_train, device, objective=objectives.cumulative_return, best_model_path=params.BEST_CR_GENOME_PATH, last_model_path=params.LAST_CR_GENOME_PATH, plt_path=params.CR_PLOTS)"
   ]
  },
  {
   "cell_type": "code",
   "execution_count": 20,
   "metadata": {},
   "outputs": [],
   "source": [
    "# train_head(in_train, p_train, device, objective=objectives.sharpe_ratio, best_model_path=params.BEST_SR_GENOME_PATH, last_model_path=params.LAST_SR_GENOME_PATH, plt_path=params.SR_PLOTS)"
   ]
  },
  {
   "cell_type": "code",
   "execution_count": 21,
   "metadata": {},
   "outputs": [],
   "source": [
    "# train_head(in_train, p_train, device, objective=objectives.maximum_drawdown, best_model_path=params.BEST_MD_GENOME_PATH, last_model_path=params.LAST_MD_GENOME_PATH, plt_path=params.MD_PLOTS)"
   ]
  },
  {
   "cell_type": "code",
   "execution_count": 22,
   "metadata": {},
   "outputs": [
    {
     "name": "stdout",
     "output_type": "stream",
     "text": [
      "Downloaded and validated HDF5 file saved at weights/best_cr_genome.h5.\n",
      "Downloaded and validated HDF5 file saved at weights/best_sr_genome.h5.\n",
      "Downloaded and validated HDF5 file saved at weights/best_md_genome.h5.\n"
     ]
    }
   ],
   "source": [
    "cr_head_url = 'https://huggingface.co/tristantill/mo-genfis-head/resolve/main/best_cr_genome.h5'\n",
    "sr_head_url = 'https://huggingface.co/tristantill/mo-genfis-head/resolve/main/best_sr_genome.h5'\n",
    "md_head_url = 'https://huggingface.co/tristantill/mo-genfis-head/resolve/main/best_md_genome.h5'\n",
    "helpers.download_h5_file(cr_head_url, params.BEST_CR_GENOME_PATH)\n",
    "helpers.download_h5_file(sr_head_url, params.BEST_SR_GENOME_PATH)\n",
    "helpers.download_h5_file(md_head_url, params.BEST_MD_GENOME_PATH)"
   ]
  },
  {
   "cell_type": "code",
   "execution_count": 23,
   "metadata": {},
   "outputs": [],
   "source": [
    "helpers.set_deterministic()\n",
    "base, prices = evo_data.supplementary_data(params.TARGET)\n",
    "model_preds = evo_data.get_predictions(device, model_path=params.BEST_MODEL_PATH, model_loader=get_backbone, target=params.TARGET, supps=params.SUPP)\n",
    "_, model_data, _, model_prices = evo_data.stack_and_trim(model_preds, prices, base, device)\n",
    "ft_base, ft_prices = evo_data.supplementary_data(params.FT_TARGET)\n",
    "ft_model_preds = evo_data.get_predictions(device, model_path=params.FT_BEST_MODEL_PATH, model_loader=get_backbone, target=params.FT_TARGET, supps=params.FT_SUPP)\n",
    "_, ft_model_data, _, ft_model_prices = evo_data.stack_and_trim(ft_model_preds, ft_prices, ft_base, device)"
   ]
  },
  {
   "cell_type": "code",
   "execution_count": 24,
   "metadata": {},
   "outputs": [
    {
     "name": "stdout",
     "output_type": "stream",
     "text": [
      "Model Portfolio: Gain=0.0654, Sharpe=0.0451, Max Drawdown=0.0510\n",
      "Buy and Hold: Gain=0.0461, Sharpe=0.0185, Max Drawdown=0.1068\n",
      "Risk-Free: Gain=0.0214, Sharpe=0.0000, Max Drawdown=0.0000\n",
      "Cost Averaging: Gain=0.0237, Sharpe=0.0064, Max Drawdown=0.0747\n",
      "Model Portfolio: Gain=0.0132, Sharpe=-0.0047, Max Drawdown=0.0922\n",
      "Buy and Hold: Gain=-0.0178, Sharpe=-0.0164, Max Drawdown=0.1486\n",
      "Risk-Free: Gain=0.0214, Sharpe=0.0000, Max Drawdown=0.0000\n",
      "Cost Averaging: Gain=-0.0111, Sharpe=-0.0258, Max Drawdown=0.0946\n"
     ]
    }
   ],
   "source": [
    "test_head(device, model_data, model_prices, genome_path=params.BEST_CR_GENOME_PATH, plot_path=params.CR_EVO_PLOT)\n",
    "test_head(device, ft_model_data, ft_model_prices, genome_path=params.BEST_CR_GENOME_PATH, plot_path=params.FT_CR_EVO_PLOT)"
   ]
  },
  {
   "cell_type": "code",
   "execution_count": 25,
   "metadata": {},
   "outputs": [
    {
     "name": "stdout",
     "output_type": "stream",
     "text": [
      "Model Portfolio: Gain=0.0304, Sharpe=0.0116, Max Drawdown=0.0670\n",
      "Buy and Hold: Gain=0.0461, Sharpe=0.0185, Max Drawdown=0.1068\n",
      "Risk-Free: Gain=0.0214, Sharpe=0.0000, Max Drawdown=0.0000\n",
      "Cost Averaging: Gain=0.0237, Sharpe=0.0064, Max Drawdown=0.0747\n",
      "Model Portfolio: Gain=0.0281, Sharpe=0.0109, Max Drawdown=0.0610\n",
      "Buy and Hold: Gain=-0.0178, Sharpe=-0.0164, Max Drawdown=0.1486\n",
      "Risk-Free: Gain=0.0214, Sharpe=0.0000, Max Drawdown=0.0000\n",
      "Cost Averaging: Gain=-0.0111, Sharpe=-0.0258, Max Drawdown=0.0946\n"
     ]
    }
   ],
   "source": [
    "test_head(device, model_data, model_prices, genome_path=params.BEST_SR_GENOME_PATH, plot_path=params.SR_EVO_PLOT)\n",
    "test_head(device, ft_model_data, ft_model_prices, genome_path=params.BEST_SR_GENOME_PATH, plot_path=params.FT_SR_EVO_PLOT)"
   ]
  },
  {
   "cell_type": "code",
   "execution_count": 26,
   "metadata": {},
   "outputs": [
    {
     "name": "stdout",
     "output_type": "stream",
     "text": [
      "Model Portfolio: Gain=0.0139, Sharpe=-0.0144, Max Drawdown=0.0330\n",
      "Buy and Hold: Gain=0.0461, Sharpe=0.0185, Max Drawdown=0.1068\n",
      "Risk-Free: Gain=0.0214, Sharpe=0.0000, Max Drawdown=0.0000\n",
      "Cost Averaging: Gain=0.0237, Sharpe=0.0064, Max Drawdown=0.0747\n",
      "Model Portfolio: Gain=0.0134, Sharpe=-0.0131, Max Drawdown=0.0422\n",
      "Buy and Hold: Gain=-0.0178, Sharpe=-0.0164, Max Drawdown=0.1486\n",
      "Risk-Free: Gain=0.0214, Sharpe=0.0000, Max Drawdown=0.0000\n",
      "Cost Averaging: Gain=-0.0111, Sharpe=-0.0258, Max Drawdown=0.0946\n"
     ]
    }
   ],
   "source": [
    "test_head(device, model_data, model_prices, genome_path=params.BEST_MD_GENOME_PATH, plot_path=params.MD_EVO_PLOT)\n",
    "test_head(device, ft_model_data, ft_model_prices, genome_path=params.BEST_MD_GENOME_PATH, plot_path=params.FT_MD_EVO_PLOT)"
   ]
  },
  {
   "cell_type": "code",
   "execution_count": 27,
   "metadata": {},
   "outputs": [
    {
     "name": "stdout",
     "output_type": "stream",
     "text": [
      "Model Portfolio: Gain=0.0649, Sharpe=0.0363, Max Drawdown=0.0510\n",
      "Buy and Hold: Gain=0.0461, Sharpe=0.0185, Max Drawdown=0.1068\n",
      "Risk-Free: Gain=0.0214, Sharpe=0.0000, Max Drawdown=0.0000\n",
      "Cost Averaging: Gain=0.0237, Sharpe=0.0064, Max Drawdown=0.0747\n",
      "Model Portfolio: Gain=0.0298, Sharpe=0.0114, Max Drawdown=0.0677\n",
      "Buy and Hold: Gain=-0.0178, Sharpe=-0.0164, Max Drawdown=0.1486\n",
      "Risk-Free: Gain=0.0214, Sharpe=0.0000, Max Drawdown=0.0000\n",
      "Cost Averaging: Gain=-0.0111, Sharpe=-0.0258, Max Drawdown=0.0946\n"
     ]
    }
   ],
   "source": [
    "weights_list=[params.BEST_CR_GENOME_PATH, params.BEST_SR_GENOME_PATH, params.BEST_MD_GENOME_PATH]\n",
    "test_aggregation(device, model_data, model_prices, weights_list, plot_path=params.AGG_PLOT)\n",
    "test_aggregation(device, ft_model_data, ft_model_prices, weights_list, plot_path=params.FT_AGG_PLOT)"
   ]
  },
  {
   "cell_type": "code",
   "execution_count": null,
   "metadata": {},
   "outputs": [],
   "source": []
  }
 ],
 "metadata": {
  "kernelspec": {
   "display_name": "venv",
   "language": "python",
   "name": "python3"
  },
  "language_info": {
   "codemirror_mode": {
    "name": "ipython",
    "version": 3
   },
   "file_extension": ".py",
   "mimetype": "text/x-python",
   "name": "python",
   "nbconvert_exporter": "python",
   "pygments_lexer": "ipython3",
   "version": "3.12.7"
  }
 },
 "nbformat": 4,
 "nbformat_minor": 2
}
